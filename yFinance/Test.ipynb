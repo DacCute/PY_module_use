{
 "cells": [
  {
   "cell_type": "code",
   "execution_count": 44,
   "metadata": {},
   "outputs": [
    {
     "name": "stdout",
     "output_type": "stream",
     "text": [
      "Ticker: AAPL - Apple\n",
      "today: 2023-08-01 15:31:16.848088\n",
      "Market Price: 196.06\n",
      "Previous Close Price: 195.83\n"
     ]
    }
   ],
   "source": [
    "import yfinance as yf\n",
    "import datetime\n",
    "ticker = yf.Ticker('AAPL').info\n",
    "market_price = ticker['regularMarketOpen']\n",
    "previous_close_price = ticker['regularMarketPreviousClose']\n",
    "current_time = datetime.datetime.now()\n",
    "print('Ticker: AAPL - Apple')\n",
    "print('today:',current_time)\n",
    "print('Market Price:', market_price)\n",
    "print('Previous Close Price:', previous_close_price)"
   ]
  },
  {
   "cell_type": "code",
   "execution_count": 45,
   "metadata": {},
   "outputs": [
    {
     "name": "stdout",
     "output_type": "stream",
     "text": [
      "dict_keys(['address1', 'city', 'state', 'zip', 'country', 'phone', 'website', 'industry', 'industryDisp', 'sector', 'sectorDisp', 'longBusinessSummary', 'fullTimeEmployees', 'companyOfficers', 'auditRisk', 'boardRisk', 'compensationRisk', 'shareHolderRightsRisk', 'overallRisk', 'governanceEpochDate', 'compensationAsOfEpochDate', 'maxAge', 'priceHint', 'previousClose', 'open', 'dayLow', 'dayHigh', 'regularMarketPreviousClose', 'regularMarketOpen', 'regularMarketDayLow', 'regularMarketDayHigh', 'dividendRate', 'dividendYield', 'exDividendDate', 'payoutRatio', 'fiveYearAvgDividendYield', 'beta', 'trailingPE', 'forwardPE', 'volume', 'regularMarketVolume', 'averageVolume', 'averageVolume10days', 'averageDailyVolume10Day', 'bid', 'ask', 'bidSize', 'askSize', 'marketCap', 'fiftyTwoWeekLow', 'fiftyTwoWeekHigh', 'priceToSalesTrailing12Months', 'fiftyDayAverage', 'twoHundredDayAverage', 'trailingAnnualDividendRate', 'trailingAnnualDividendYield', 'currency', 'enterpriseValue', 'profitMargins', 'floatShares', 'sharesOutstanding', 'sharesShort', 'sharesShortPriorMonth', 'sharesShortPreviousMonthDate', 'dateShortInterest', 'sharesPercentSharesOut', 'heldPercentInsiders', 'heldPercentInstitutions', 'shortRatio', 'shortPercentOfFloat', 'impliedSharesOutstanding', 'bookValue', 'priceToBook', 'lastFiscalYearEnd', 'nextFiscalYearEnd', 'mostRecentQuarter', 'earningsQuarterlyGrowth', 'netIncomeToCommon', 'trailingEps', 'forwardEps', 'pegRatio', 'lastSplitFactor', 'lastSplitDate', 'enterpriseToRevenue', 'enterpriseToEbitda', '52WeekChange', 'SandP52WeekChange', 'lastDividendValue', 'lastDividendDate', 'exchange', 'quoteType', 'symbol', 'underlyingSymbol', 'shortName', 'longName', 'firstTradeDateEpochUtc', 'timeZoneFullName', 'timeZoneShortName', 'uuid', 'messageBoardId', 'gmtOffSetMilliseconds', 'currentPrice', 'targetHighPrice', 'targetLowPrice', 'targetMeanPrice', 'targetMedianPrice', 'recommendationMean', 'recommendationKey', 'numberOfAnalystOpinions', 'totalCash', 'totalCashPerShare', 'ebitda', 'totalDebt', 'quickRatio', 'currentRatio', 'totalRevenue', 'debtToEquity', 'revenuePerShare', 'returnOnAssets', 'returnOnEquity', 'grossProfits', 'freeCashflow', 'operatingCashflow', 'earningsGrowth', 'revenueGrowth', 'grossMargins', 'ebitdaMargins', 'operatingMargins', 'financialCurrency', 'trailingPegRatio'])\n"
     ]
    }
   ],
   "source": [
    "ticker = yf.Ticker('AAPL').info\n",
    "print(ticker.keys())"
   ]
  },
  {
   "cell_type": "code",
   "execution_count": 58,
   "metadata": {},
   "outputs": [
    {
     "name": "stdout",
     "output_type": "stream",
     "text": [
      "[*********************100%***********************]  1 of 1 completed\n",
      "                  Open        High         Low       Close   Adj Close   \n",
      "Date                                                                     \n",
      "2023-07-25  193.330002  194.440002  192.919998  193.619995  193.619995  \\\n",
      "2023-07-26  193.669998  195.639999  193.320007  194.500000  194.500000   \n",
      "2023-07-27  196.020004  197.199997  192.550003  193.220001  193.220001   \n",
      "2023-07-28  194.669998  196.630005  194.139999  195.830002  195.830002   \n",
      "2023-07-31  196.059998  196.490005  195.259995  196.449997  196.449997   \n",
      "\n",
      "              Volume  \n",
      "Date                  \n",
      "2023-07-25  37283200  \n",
      "2023-07-26  47471900  \n",
      "2023-07-27  47460200  \n",
      "2023-07-28  48254600  \n",
      "2023-07-31  38778100  \n"
     ]
    }
   ],
   "source": [
    "# Set the start and end date\n",
    "start_date = '2020-01-01'\n",
    "end_date = '2023-08-01'\n",
    " \n",
    "# Set the ticker\n",
    "ticker = 'AAPL'\n",
    " \n",
    "# Get the data\n",
    "data = yf.download(ticker, start_date, end_date)\n",
    " \n",
    "# Print the last 5 rows\n",
    "print(data.tail())"
   ]
  },
  {
   "cell_type": "code",
   "execution_count": 57,
   "metadata": {},
   "outputs": [
    {
     "name": "stdout",
     "output_type": "stream",
     "text": [
      "[*********************100%***********************]  4 of 4 completed\n",
      "            Adj Close                                       Close              \n",
      "                 AAPL      GOOGL       MSFT       TSLA       AAPL      GOOGL   \n",
      "Date                                                                           \n",
      "2019-01-02  37.994499  52.734001  96.421890  20.674667  39.480000  52.734001  \\\n",
      "2019-01-03  34.209957  51.273499  92.874733  20.024000  35.547501  51.273499   \n",
      "2019-01-04  35.670357  53.903500  97.194237  21.179333  37.064999  53.903500   \n",
      "2019-01-07  35.590961  53.796001  97.318192  22.330667  36.982498  53.796001   \n",
      "2019-01-08  36.269432  54.268501  98.023827  22.356667  37.687500  54.268501   \n",
      "\n",
      "                                        High             ...         Low   \n",
      "                  MSFT       TSLA       AAPL      GOOGL  ...        MSFT   \n",
      "Date                                                     ...               \n",
      "2019-01-02  101.120003  20.674667  39.712502  53.039501  ...   98.940002  \\\n",
      "2019-01-03   97.400002  20.024000  36.430000  53.313000  ...   97.199997   \n",
      "2019-01-04  101.930000  21.179333  37.137501  54.000000  ...   98.930000   \n",
      "2019-01-07  102.059998  22.330667  37.207500  54.134998  ...  100.980003   \n",
      "2019-01-08  102.800003  22.356667  37.955002  54.667500  ...  101.709999   \n",
      "\n",
      "                            Open                                       Volume   \n",
      "                 TSLA       AAPL      GOOGL        MSFT       TSLA       AAPL   \n",
      "Date                                                                            \n",
      "2019-01-02  19.920000  38.722500  51.360001   99.550003  20.406668  148158800  \\\n",
      "2019-01-03  19.825333  35.994999  52.533501  100.099998  20.466667  365248800   \n",
      "2019-01-04  20.181999  36.132500  52.127998   99.720001  20.400000  234428400   \n",
      "2019-01-07  21.183332  37.174999  54.048500  101.639999  21.448000  219111200   \n",
      "2019-01-08  21.801332  37.389999  54.299999  103.040001  22.797333  164101200   \n",
      "\n",
      "                                           \n",
      "               GOOGL      MSFT       TSLA  \n",
      "Date                                       \n",
      "2019-01-02  31868000  35329300  174879000  \n",
      "2019-01-03  41960000  42579100  104478000  \n",
      "2019-01-04  46022000  44060600  110911500  \n",
      "2019-01-07  47446000  35656100  113268000  \n",
      "2019-01-08  35414000  31514400  105127500  \n",
      "\n",
      "[5 rows x 24 columns]\n"
     ]
    }
   ],
   "source": [
    "start_date = '2019-01-01'\n",
    "end_date = '2023-08-01'\n",
    " \n",
    "# Add multiple space separated tickers here\n",
    "ticker = 'GOOGL MSFT TSLA AAPL'\n",
    "data = yf.download(ticker, start_date, end_date)\n",
    "print(data.head())"
   ]
  },
  {
   "cell_type": "code",
   "execution_count": 54,
   "metadata": {},
   "outputs": [
    {
     "name": "stdout",
     "output_type": "stream",
     "text": [
      "[*********************100%***********************]  1 of 1 completed\n",
      "        Date       Open       High        Low      Close  Adj Close     Volume\n",
      "0 2019-01-02  38.722500  39.712502  38.557499  39.480000  37.994499  148158800\n",
      "1 2019-01-03  35.994999  36.430000  35.500000  35.547501  34.209965  365248800\n",
      "2 2019-01-04  36.132500  37.137501  35.950001  37.064999  35.670361  234428400\n",
      "3 2019-01-07  37.174999  37.207500  36.474998  36.982498  35.590961  219111200\n",
      "4 2019-01-08  37.389999  37.955002  37.130001  37.687500  36.269440  164101200\n"
     ]
    }
   ],
   "source": [
    "start_date = '2019-01-01'\n",
    "end_date = '2023-08-01'\n",
    "ticker = 'AAPL'\n",
    "data = yf.download(ticker, start_date, end_date)\n",
    "data[\"Date\"] = data.index\n",
    " \n",
    "data = data[[\"Date\", \"Open\", \"High\",\n",
    "             \"Low\", \"Close\", \"Adj Close\", \"Volume\"]]\n",
    " \n",
    "data.reset_index(drop=True, inplace=True)\n",
    "print(data.head())"
   ]
  },
  {
   "cell_type": "code",
   "execution_count": 51,
   "metadata": {},
   "outputs": [
    {
     "name": "stdout",
     "output_type": "stream",
     "text": [
      "[*********************100%***********************]  1 of 1 completed\n",
      "                  Open        High         Low       Close   Adj Close   \n",
      "Date                                                                     \n",
      "2023-07-25  193.330002  194.440002  192.919998  193.619995  193.619995  \\\n",
      "2023-07-26  193.669998  195.639999  193.320007  194.500000  194.500000   \n",
      "2023-07-27  196.020004  197.199997  192.550003  193.220001  193.220001   \n",
      "2023-07-28  194.669998  196.630005  194.139999  195.830002  195.830002   \n",
      "2023-07-31  196.059998  196.490005  195.259995  196.449997  196.449997   \n",
      "\n",
      "              Volume  \n",
      "Date                  \n",
      "2023-07-25  37283200  \n",
      "2023-07-26  47471900  \n",
      "2023-07-27  47460200  \n",
      "2023-07-28  48254600  \n",
      "2023-07-31  38778100  \n"
     ]
    }
   ],
   "source": [
    "start_date = '2023-01-01'\n",
    "end_date = '2023-08-01'\n",
    "ticker = 'AAPL'\n",
    "data = yf.download(ticker, start_date, end_date)\n",
    "print(data.tail())\n",
    "\n",
    "# Export data to a CSV file\n",
    "data.to_csv(\"AAPL.csv\")"
   ]
  },
  {
   "cell_type": "code",
   "execution_count": 50,
   "metadata": {},
   "outputs": [
    {
     "name": "stdout",
     "output_type": "stream",
     "text": [
      "15:31:18\n"
     ]
    }
   ],
   "source": [
    "import datetime\n",
    "current_time = datetime.datetime.now()\n",
    "formatted_time = current_time.strftime('%H:%M:%S')\n",
    "print(formatted_time)"
   ]
  }
 ],
 "metadata": {
  "kernelspec": {
   "display_name": "Python 3",
   "language": "python",
   "name": "python3"
  },
  "language_info": {
   "codemirror_mode": {
    "name": "ipython",
    "version": 3
   },
   "file_extension": ".py",
   "mimetype": "text/x-python",
   "name": "python",
   "nbconvert_exporter": "python",
   "pygments_lexer": "ipython3",
   "version": "3.10.10"
  },
  "orig_nbformat": 4
 },
 "nbformat": 4,
 "nbformat_minor": 2
}
